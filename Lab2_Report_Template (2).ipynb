{
  "cells": [
    {
      "cell_type": "markdown",
      "id": "163b6157",
      "metadata": {
        "id": "163b6157"
      },
      "source": [
        "# Lab 2 Report:\n",
        "## Iris Classification with Regression"
      ]
    },
    {
      "cell_type": "markdown",
      "id": "d382102f",
      "metadata": {
        "id": "d382102f"
      },
      "source": [
        "### Name:"
      ]
    },
    {
      "cell_type": "code",
      "execution_count": 1,
      "id": "bf983243",
      "metadata": {
        "id": "bf983243"
      },
      "outputs": [],
      "source": [
        "# Import neccessary packages\n",
        "\n",
        "%matplotlib inline\n",
        "\n",
        "import numpy as np\n",
        "import matplotlib.pyplot as plt\n",
        "\n",
        "import torch"
      ]
    },
    {
      "cell_type": "code",
      "execution_count": 2,
      "id": "ef5ee87f",
      "metadata": {
        "id": "ef5ee87f"
      },
      "outputs": [],
      "source": [
        "from IPython.display import Image # For displaying images in colab jupyter cell"
      ]
    },
    {
      "cell_type": "code",
      "execution_count": null,
      "id": "fac863ef",
      "metadata": {
        "colab": {
          "base_uri": "https://localhost:8080/",
          "height": 909
        },
        "id": "fac863ef",
        "outputId": "4426be12-da38-43ce-9458-d406a10e9248"
      },
      "outputs": [
        {
          "output_type": "error",
          "ename": "FileNotFoundError",
          "evalue": "No such file or directory: 'lab2_exercise1.PNG'",
          "traceback": [
            "\u001b[0;31m---------------------------------------------------------------------------\u001b[0m",
            "\u001b[0;31mTypeError\u001b[0m                                 Traceback (most recent call last)",
            "\u001b[0;32m/usr/local/lib/python3.10/dist-packages/IPython/core/display.py\u001b[0m in \u001b[0;36m_data_and_metadata\u001b[0;34m(self, always_both)\u001b[0m\n\u001b[1;32m   1299\u001b[0m         \u001b[0;32mtry\u001b[0m\u001b[0;34m:\u001b[0m\u001b[0;34m\u001b[0m\u001b[0;34m\u001b[0m\u001b[0m\n\u001b[0;32m-> 1300\u001b[0;31m             \u001b[0mb64_data\u001b[0m \u001b[0;34m=\u001b[0m \u001b[0mb2a_base64\u001b[0m\u001b[0;34m(\u001b[0m\u001b[0mself\u001b[0m\u001b[0;34m.\u001b[0m\u001b[0mdata\u001b[0m\u001b[0;34m)\u001b[0m\u001b[0;34m.\u001b[0m\u001b[0mdecode\u001b[0m\u001b[0;34m(\u001b[0m\u001b[0;34m'ascii'\u001b[0m\u001b[0;34m)\u001b[0m\u001b[0;34m\u001b[0m\u001b[0;34m\u001b[0m\u001b[0m\n\u001b[0m\u001b[1;32m   1301\u001b[0m         \u001b[0;32mexcept\u001b[0m \u001b[0mTypeError\u001b[0m\u001b[0;34m:\u001b[0m\u001b[0;34m\u001b[0m\u001b[0;34m\u001b[0m\u001b[0m\n",
            "\u001b[0;31mTypeError\u001b[0m: a bytes-like object is required, not 'str'",
            "\nDuring handling of the above exception, another exception occurred:\n",
            "\u001b[0;31mFileNotFoundError\u001b[0m                         Traceback (most recent call last)",
            "\u001b[0;32m/usr/local/lib/python3.10/dist-packages/IPython/core/formatters.py\u001b[0m in \u001b[0;36m__call__\u001b[0;34m(self, obj, include, exclude)\u001b[0m\n\u001b[1;32m    968\u001b[0m \u001b[0;34m\u001b[0m\u001b[0m\n\u001b[1;32m    969\u001b[0m             \u001b[0;32mif\u001b[0m \u001b[0mmethod\u001b[0m \u001b[0;32mis\u001b[0m \u001b[0;32mnot\u001b[0m \u001b[0;32mNone\u001b[0m\u001b[0;34m:\u001b[0m\u001b[0;34m\u001b[0m\u001b[0;34m\u001b[0m\u001b[0m\n\u001b[0;32m--> 970\u001b[0;31m                 \u001b[0;32mreturn\u001b[0m \u001b[0mmethod\u001b[0m\u001b[0;34m(\u001b[0m\u001b[0minclude\u001b[0m\u001b[0;34m=\u001b[0m\u001b[0minclude\u001b[0m\u001b[0;34m,\u001b[0m \u001b[0mexclude\u001b[0m\u001b[0;34m=\u001b[0m\u001b[0mexclude\u001b[0m\u001b[0;34m)\u001b[0m\u001b[0;34m\u001b[0m\u001b[0;34m\u001b[0m\u001b[0m\n\u001b[0m\u001b[1;32m    971\u001b[0m             \u001b[0;32mreturn\u001b[0m \u001b[0;32mNone\u001b[0m\u001b[0;34m\u001b[0m\u001b[0;34m\u001b[0m\u001b[0m\n\u001b[1;32m    972\u001b[0m         \u001b[0;32melse\u001b[0m\u001b[0;34m:\u001b[0m\u001b[0;34m\u001b[0m\u001b[0;34m\u001b[0m\u001b[0m\n",
            "\u001b[0;32m/usr/local/lib/python3.10/dist-packages/IPython/core/display.py\u001b[0m in \u001b[0;36m_repr_mimebundle_\u001b[0;34m(self, include, exclude)\u001b[0m\n\u001b[1;32m   1288\u001b[0m         \u001b[0;32mif\u001b[0m \u001b[0mself\u001b[0m\u001b[0;34m.\u001b[0m\u001b[0membed\u001b[0m\u001b[0;34m:\u001b[0m\u001b[0;34m\u001b[0m\u001b[0;34m\u001b[0m\u001b[0m\n\u001b[1;32m   1289\u001b[0m             \u001b[0mmimetype\u001b[0m \u001b[0;34m=\u001b[0m \u001b[0mself\u001b[0m\u001b[0;34m.\u001b[0m\u001b[0m_mimetype\u001b[0m\u001b[0;34m\u001b[0m\u001b[0;34m\u001b[0m\u001b[0m\n\u001b[0;32m-> 1290\u001b[0;31m             \u001b[0mdata\u001b[0m\u001b[0;34m,\u001b[0m \u001b[0mmetadata\u001b[0m \u001b[0;34m=\u001b[0m \u001b[0mself\u001b[0m\u001b[0;34m.\u001b[0m\u001b[0m_data_and_metadata\u001b[0m\u001b[0;34m(\u001b[0m\u001b[0malways_both\u001b[0m\u001b[0;34m=\u001b[0m\u001b[0;32mTrue\u001b[0m\u001b[0;34m)\u001b[0m\u001b[0;34m\u001b[0m\u001b[0;34m\u001b[0m\u001b[0m\n\u001b[0m\u001b[1;32m   1291\u001b[0m             \u001b[0;32mif\u001b[0m \u001b[0mmetadata\u001b[0m\u001b[0;34m:\u001b[0m\u001b[0;34m\u001b[0m\u001b[0;34m\u001b[0m\u001b[0m\n\u001b[1;32m   1292\u001b[0m                 \u001b[0mmetadata\u001b[0m \u001b[0;34m=\u001b[0m \u001b[0;34m{\u001b[0m\u001b[0mmimetype\u001b[0m\u001b[0;34m:\u001b[0m \u001b[0mmetadata\u001b[0m\u001b[0;34m}\u001b[0m\u001b[0;34m\u001b[0m\u001b[0;34m\u001b[0m\u001b[0m\n",
            "\u001b[0;32m/usr/local/lib/python3.10/dist-packages/IPython/core/display.py\u001b[0m in \u001b[0;36m_data_and_metadata\u001b[0;34m(self, always_both)\u001b[0m\n\u001b[1;32m   1300\u001b[0m             \u001b[0mb64_data\u001b[0m \u001b[0;34m=\u001b[0m \u001b[0mb2a_base64\u001b[0m\u001b[0;34m(\u001b[0m\u001b[0mself\u001b[0m\u001b[0;34m.\u001b[0m\u001b[0mdata\u001b[0m\u001b[0;34m)\u001b[0m\u001b[0;34m.\u001b[0m\u001b[0mdecode\u001b[0m\u001b[0;34m(\u001b[0m\u001b[0;34m'ascii'\u001b[0m\u001b[0;34m)\u001b[0m\u001b[0;34m\u001b[0m\u001b[0;34m\u001b[0m\u001b[0m\n\u001b[1;32m   1301\u001b[0m         \u001b[0;32mexcept\u001b[0m \u001b[0mTypeError\u001b[0m\u001b[0;34m:\u001b[0m\u001b[0;34m\u001b[0m\u001b[0;34m\u001b[0m\u001b[0m\n\u001b[0;32m-> 1302\u001b[0;31m             raise FileNotFoundError(\n\u001b[0m\u001b[1;32m   1303\u001b[0m                 \"No such file or directory: '%s'\" % (self.data))\n\u001b[1;32m   1304\u001b[0m         \u001b[0mmd\u001b[0m \u001b[0;34m=\u001b[0m \u001b[0;34m{\u001b[0m\u001b[0;34m}\u001b[0m\u001b[0;34m\u001b[0m\u001b[0;34m\u001b[0m\u001b[0m\n",
            "\u001b[0;31mFileNotFoundError\u001b[0m: No such file or directory: 'lab2_exercise1.PNG'"
          ]
        },
        {
          "output_type": "error",
          "ename": "FileNotFoundError",
          "evalue": "No such file or directory: 'lab2_exercise1.PNG'",
          "traceback": [
            "\u001b[0;31m---------------------------------------------------------------------------\u001b[0m",
            "\u001b[0;31mTypeError\u001b[0m                                 Traceback (most recent call last)",
            "\u001b[0;32m/usr/local/lib/python3.10/dist-packages/IPython/core/display.py\u001b[0m in \u001b[0;36m_data_and_metadata\u001b[0;34m(self, always_both)\u001b[0m\n\u001b[1;32m   1299\u001b[0m         \u001b[0;32mtry\u001b[0m\u001b[0;34m:\u001b[0m\u001b[0;34m\u001b[0m\u001b[0;34m\u001b[0m\u001b[0m\n\u001b[0;32m-> 1300\u001b[0;31m             \u001b[0mb64_data\u001b[0m \u001b[0;34m=\u001b[0m \u001b[0mb2a_base64\u001b[0m\u001b[0;34m(\u001b[0m\u001b[0mself\u001b[0m\u001b[0;34m.\u001b[0m\u001b[0mdata\u001b[0m\u001b[0;34m)\u001b[0m\u001b[0;34m.\u001b[0m\u001b[0mdecode\u001b[0m\u001b[0;34m(\u001b[0m\u001b[0;34m'ascii'\u001b[0m\u001b[0;34m)\u001b[0m\u001b[0;34m\u001b[0m\u001b[0;34m\u001b[0m\u001b[0m\n\u001b[0m\u001b[1;32m   1301\u001b[0m         \u001b[0;32mexcept\u001b[0m \u001b[0mTypeError\u001b[0m\u001b[0;34m:\u001b[0m\u001b[0;34m\u001b[0m\u001b[0;34m\u001b[0m\u001b[0m\n",
            "\u001b[0;31mTypeError\u001b[0m: a bytes-like object is required, not 'str'",
            "\nDuring handling of the above exception, another exception occurred:\n",
            "\u001b[0;31mFileNotFoundError\u001b[0m                         Traceback (most recent call last)",
            "\u001b[0;32m/usr/local/lib/python3.10/dist-packages/IPython/core/formatters.py\u001b[0m in \u001b[0;36m__call__\u001b[0;34m(self, obj)\u001b[0m\n\u001b[1;32m    343\u001b[0m             \u001b[0mmethod\u001b[0m \u001b[0;34m=\u001b[0m \u001b[0mget_real_method\u001b[0m\u001b[0;34m(\u001b[0m\u001b[0mobj\u001b[0m\u001b[0;34m,\u001b[0m \u001b[0mself\u001b[0m\u001b[0;34m.\u001b[0m\u001b[0mprint_method\u001b[0m\u001b[0;34m)\u001b[0m\u001b[0;34m\u001b[0m\u001b[0;34m\u001b[0m\u001b[0m\n\u001b[1;32m    344\u001b[0m             \u001b[0;32mif\u001b[0m \u001b[0mmethod\u001b[0m \u001b[0;32mis\u001b[0m \u001b[0;32mnot\u001b[0m \u001b[0;32mNone\u001b[0m\u001b[0;34m:\u001b[0m\u001b[0;34m\u001b[0m\u001b[0;34m\u001b[0m\u001b[0m\n\u001b[0;32m--> 345\u001b[0;31m                 \u001b[0;32mreturn\u001b[0m \u001b[0mmethod\u001b[0m\u001b[0;34m(\u001b[0m\u001b[0;34m)\u001b[0m\u001b[0;34m\u001b[0m\u001b[0;34m\u001b[0m\u001b[0m\n\u001b[0m\u001b[1;32m    346\u001b[0m             \u001b[0;32mreturn\u001b[0m \u001b[0;32mNone\u001b[0m\u001b[0;34m\u001b[0m\u001b[0;34m\u001b[0m\u001b[0m\n\u001b[1;32m    347\u001b[0m         \u001b[0;32melse\u001b[0m\u001b[0;34m:\u001b[0m\u001b[0;34m\u001b[0m\u001b[0;34m\u001b[0m\u001b[0m\n",
            "\u001b[0;32m/usr/local/lib/python3.10/dist-packages/IPython/core/display.py\u001b[0m in \u001b[0;36m_repr_png_\u001b[0;34m(self)\u001b[0m\n\u001b[1;32m   1318\u001b[0m     \u001b[0;32mdef\u001b[0m \u001b[0m_repr_png_\u001b[0m\u001b[0;34m(\u001b[0m\u001b[0mself\u001b[0m\u001b[0;34m)\u001b[0m\u001b[0;34m:\u001b[0m\u001b[0;34m\u001b[0m\u001b[0;34m\u001b[0m\u001b[0m\n\u001b[1;32m   1319\u001b[0m         \u001b[0;32mif\u001b[0m \u001b[0mself\u001b[0m\u001b[0;34m.\u001b[0m\u001b[0membed\u001b[0m \u001b[0;32mand\u001b[0m \u001b[0mself\u001b[0m\u001b[0;34m.\u001b[0m\u001b[0mformat\u001b[0m \u001b[0;34m==\u001b[0m \u001b[0mself\u001b[0m\u001b[0;34m.\u001b[0m\u001b[0m_FMT_PNG\u001b[0m\u001b[0;34m:\u001b[0m\u001b[0;34m\u001b[0m\u001b[0;34m\u001b[0m\u001b[0m\n\u001b[0;32m-> 1320\u001b[0;31m             \u001b[0;32mreturn\u001b[0m \u001b[0mself\u001b[0m\u001b[0;34m.\u001b[0m\u001b[0m_data_and_metadata\u001b[0m\u001b[0;34m(\u001b[0m\u001b[0;34m)\u001b[0m\u001b[0;34m\u001b[0m\u001b[0;34m\u001b[0m\u001b[0m\n\u001b[0m\u001b[1;32m   1321\u001b[0m \u001b[0;34m\u001b[0m\u001b[0m\n\u001b[1;32m   1322\u001b[0m     \u001b[0;32mdef\u001b[0m \u001b[0m_repr_jpeg_\u001b[0m\u001b[0;34m(\u001b[0m\u001b[0mself\u001b[0m\u001b[0;34m)\u001b[0m\u001b[0;34m:\u001b[0m\u001b[0;34m\u001b[0m\u001b[0;34m\u001b[0m\u001b[0m\n",
            "\u001b[0;32m/usr/local/lib/python3.10/dist-packages/IPython/core/display.py\u001b[0m in \u001b[0;36m_data_and_metadata\u001b[0;34m(self, always_both)\u001b[0m\n\u001b[1;32m   1300\u001b[0m             \u001b[0mb64_data\u001b[0m \u001b[0;34m=\u001b[0m \u001b[0mb2a_base64\u001b[0m\u001b[0;34m(\u001b[0m\u001b[0mself\u001b[0m\u001b[0;34m.\u001b[0m\u001b[0mdata\u001b[0m\u001b[0;34m)\u001b[0m\u001b[0;34m.\u001b[0m\u001b[0mdecode\u001b[0m\u001b[0;34m(\u001b[0m\u001b[0;34m'ascii'\u001b[0m\u001b[0;34m)\u001b[0m\u001b[0;34m\u001b[0m\u001b[0;34m\u001b[0m\u001b[0m\n\u001b[1;32m   1301\u001b[0m         \u001b[0;32mexcept\u001b[0m \u001b[0mTypeError\u001b[0m\u001b[0;34m:\u001b[0m\u001b[0;34m\u001b[0m\u001b[0;34m\u001b[0m\u001b[0m\n\u001b[0;32m-> 1302\u001b[0;31m             raise FileNotFoundError(\n\u001b[0m\u001b[1;32m   1303\u001b[0m                 \"No such file or directory: '%s'\" % (self.data))\n\u001b[1;32m   1304\u001b[0m         \u001b[0mmd\u001b[0m \u001b[0;34m=\u001b[0m \u001b[0;34m{\u001b[0m\u001b[0;34m}\u001b[0m\u001b[0;34m\u001b[0m\u001b[0;34m\u001b[0m\u001b[0m\n",
            "\u001b[0;31mFileNotFoundError\u001b[0m: No such file or directory: 'lab2_exercise1.PNG'"
          ]
        },
        {
          "output_type": "execute_result",
          "data": {
            "text/plain": [
              "<IPython.core.display.Image object>"
            ]
          },
          "metadata": {},
          "execution_count": 9
        }
      ],
      "source": [
        "Image('lab2_exercise1.PNG', width = 1000)"
      ]
    },
    {
      "cell_type": "markdown",
      "id": "9f75f46f",
      "metadata": {
        "id": "9f75f46f"
      },
      "source": [
        "## Prepare Data"
      ]
    },
    {
      "cell_type": "code",
      "execution_count": 3,
      "id": "1c31a2a1",
      "metadata": {
        "id": "1c31a2a1"
      },
      "outputs": [],
      "source": [
        "from sklearn.datasets import load_iris\n",
        "\n",
        "# iris dataset is available from scikit-learn package\n",
        "iris = load_iris()\n",
        "\n",
        "# Load the X (features) and y (targets) for training\n",
        "X_train = iris['data']\n",
        "y_train = iris['target']\n",
        "\n",
        "# Load the name labels for features and targets\n",
        "feature_names = iris['feature_names']\n",
        "names = iris['target_names']\n",
        "\n",
        "# Feel free to perform additional data processing here (e.g. standard scaling)"
      ]
    },
    {
      "cell_type": "code",
      "execution_count": 4,
      "id": "b7aa6435",
      "metadata": {
        "colab": {
          "base_uri": "https://localhost:8080/"
        },
        "id": "b7aa6435",
        "outputId": "30db5168-ad0e-4bdd-9a5a-d716610216bc"
      },
      "outputs": [
        {
          "output_type": "stream",
          "name": "stdout",
          "text": [
            "[[5.1 3.5 1.4 0.2]\n",
            " [4.9 3.  1.4 0.2]\n",
            " [4.7 3.2 1.3 0.2]\n",
            " [4.6 3.1 1.5 0.2]\n",
            " [5.  3.6 1.4 0.2]\n",
            " [5.4 3.9 1.7 0.4]\n",
            " [4.6 3.4 1.4 0.3]\n",
            " [5.  3.4 1.5 0.2]\n",
            " [4.4 2.9 1.4 0.2]\n",
            " [4.9 3.1 1.5 0.1]] [0 0 0 0 0 0 0 0 0 0]\n"
          ]
        }
      ],
      "source": [
        "# Print the first 10 training samples for both features and targets\n",
        "\n",
        "print(X_train[:10, :], y_train[:10])"
      ]
    },
    {
      "cell_type": "code",
      "execution_count": 5,
      "id": "cab93819",
      "metadata": {
        "colab": {
          "base_uri": "https://localhost:8080/"
        },
        "id": "cab93819",
        "outputId": "60ca51c2-a3ed-47c9-c118-f4965bde1695"
      },
      "outputs": [
        {
          "output_type": "stream",
          "name": "stdout",
          "text": [
            "(150, 4) (150,)\n"
          ]
        }
      ],
      "source": [
        "# Print the dimensions of features and targets\n",
        "\n",
        "print(X_train.shape, y_train.shape)"
      ]
    },
    {
      "cell_type": "code",
      "execution_count": 6,
      "id": "df9e7f26",
      "metadata": {
        "colab": {
          "base_uri": "https://localhost:8080/"
        },
        "id": "df9e7f26",
        "outputId": "7563c98f-5ade-4241-b6a8-bf6753639483"
      },
      "outputs": [
        {
          "output_type": "stream",
          "name": "stdout",
          "text": [
            "['sepal length (cm)', 'sepal width (cm)', 'petal length (cm)', 'petal width (cm)'] ['setosa' 'versicolor' 'virginica']\n"
          ]
        }
      ],
      "source": [
        "# feature_names contains name for each column in X_train\n",
        "# For targets, 0 -> setosa, 1 -> versicolor, 2 -> virginica\n",
        "\n",
        "print(feature_names, names)"
      ]
    },
    {
      "cell_type": "code",
      "execution_count": 7,
      "id": "f85166b5",
      "metadata": {
        "colab": {
          "base_uri": "https://localhost:8080/",
          "height": 560
        },
        "id": "f85166b5",
        "outputId": "d88ea0c8-10fc-442d-cbee-0b4be90bb2ef"
      },
      "outputs": [
        {
          "output_type": "execute_result",
          "data": {
            "text/plain": [
              "<matplotlib.legend.Legend at 0x7e1e78bd1780>"
            ]
          },
          "metadata": {},
          "execution_count": 7
        },
        {
          "output_type": "display_data",
          "data": {
            "text/plain": [
              "<Figure size 1600x600 with 2 Axes>"
            ],
            "image/png": "[encoded data removed]"
          },
          "metadata": {}
        }
      ],
      "source": [
        "# We can visualize the dataset before training\n",
        "\n",
        "fig, (ax1, ax2) = plt.subplots(1, 2, figsize=(16, 6))\n",
        "\n",
        "# enumerate picks up both the index (0, 1, 2) and the element ('setosa', 'versicolor', 'virginica') from \"names\"\n",
        "# loop 1: target = 0, target_name = 'setosa'\n",
        "# loop 2: target = 1, target_name = 'versicolor' etc\n",
        "\n",
        "for target, target_name in enumerate(names):\n",
        "\n",
        "    # Subset the rows of X_train that fall into each flower category using boolean mapping\n",
        "    X_plot = X_train[y_train == target]\n",
        "\n",
        "    # Plot the sepal length versus sepal width for the flower category\n",
        "    ax1.plot(X_plot[:, 0], X_plot[:, 1], linestyle='none', marker='o', label=target_name)\n",
        "\n",
        "# Label the plot\n",
        "ax1.set_xlabel(feature_names[0])\n",
        "ax1.set_ylabel(feature_names[1])\n",
        "ax1.axis('equal')\n",
        "ax1.legend()\n",
        "\n",
        "# Repeat the above process but with petal length versus petal width\n",
        "for target, target_name in enumerate(names):\n",
        "\n",
        "    X_plot = X_train[y_train == target]\n",
        "\n",
        "    ax2.plot(X_plot[:, 2], X_plot[:, 3], linestyle='none', marker='o', label=target_name)\n",
        "\n",
        "ax2.set_xlabel(feature_names[2])\n",
        "ax2.set_ylabel(feature_names[3])\n",
        "ax2.axis('equal')\n",
        "ax2.legend()"
      ]
    },
    {
      "cell_type": "markdown",
      "id": "45091fbf",
      "metadata": {
        "id": "45091fbf"
      },
      "source": [
        "## Define Model"
      ]
    },
    {
      "cell_type": "code",
      "execution_count": 8,
      "id": "5744d7a2",
      "metadata": {
        "id": "5744d7a2"
      },
      "outputs": [],
      "source": [
        "class irisClassification(torch.nn.Module):\n",
        "\n",
        "    def __init__(self, input_dim, output_dim):\n",
        "\n",
        "        super(irisClassification, self).__init__()\n",
        "\n",
        "        self.layer1 = torch.nn.Linear(in_features=input_dim, out_features=3)\n",
        "        self.layer2 = torch.nn.Linear(in_features=3, out_features = output_dim)\n",
        "\n",
        "    def forward(self, x):\n",
        "\n",
        "        return self.layer2(self.layer1(x))\n",
        "\n",
        "        return out"
      ]
    },
    {
      "cell_type": "markdown",
      "id": "7e17d1f3",
      "metadata": {
        "id": "7e17d1f3"
      },
      "source": [
        "## Define Hyperparameters"
      ]
    },
    {
      "cell_type": "code",
      "execution_count": 9,
      "id": "c24b8dd5",
      "metadata": {
        "colab": {
          "base_uri": "https://localhost:8080/"
        },
        "id": "c24b8dd5",
        "outputId": "fe7f8518-ba3f-4b21-85a4-7b6f080fe7be"
      },
      "outputs": [
        {
          "output_type": "execute_result",
          "data": {
            "text/plain": [
              "irisClassification(\n",
              "  (layer1): Linear(in_features=4, out_features=3, bias=True)\n",
              "  (layer2): Linear(in_features=3, out_features=1, bias=True)\n",
              ")"
            ]
          },
          "metadata": {},
          "execution_count": 9
        }
      ],
      "source": [
        "\n",
        "import torch\n",
        "\n",
        "model = irisClassification(input_dim = 4, output_dim=1)\n",
        "\n",
        "learning_rate = 0.001\n",
        "epochs  = 200\n",
        "\n",
        "# We will use gradient descent for our optimizer and Mean Squared Error Loss function\n",
        "loss_func = torch.nn.MSELoss()\n",
        "optimizer = torch.optim.SGD(model.parameters(), lr = learning_rate)\n",
        "model.cuda()"
      ]
    },
    {
      "cell_type": "markdown",
      "id": "cc47fefa",
      "metadata": {
        "id": "cc47fefa"
      },
      "source": [
        "## Identify Tracked Values"
      ]
    },
    {
      "cell_type": "code",
      "execution_count": 10,
      "id": "3463d86f",
      "metadata": {
        "id": "3463d86f"
      },
      "outputs": [],
      "source": [
        "# follow models performance over each epoch. Identify a metric and track it over epochs\n",
        "\n",
        "train_loss_list = []\n",
        "inputs = torch.from_numpy(X_train).cuda().float()\n",
        "targets = torch.from_numpy(y_train).cuda().float()\n",
        "targets = targets.unsqueeze(1)"
      ]
    },
    {
      "cell_type": "markdown",
      "id": "13959d37",
      "metadata": {
        "id": "13959d37"
      },
      "source": [
        "## Train Model"
      ]
    },
    {
      "cell_type": "code",
      "execution_count": 11,
      "id": "8572c363",
      "metadata": {
        "colab": {
          "base_uri": "https://localhost:8080/"
        },
        "id": "8572c363",
        "outputId": "ba4ab8a5-515f-4266-ef59-5d3fcd6b8fe9"
      },
      "outputs": [
        {
          "output_type": "stream",
          "name": "stdout",
          "text": [
            "epoch 0, loss 5.55471134185791\n",
            "epoch 1, loss 5.150993347167969\n",
            "epoch 2, loss 4.791430950164795\n",
            "epoch 3, loss 4.468701362609863\n",
            "epoch 4, loss 4.176998615264893\n",
            "epoch 5, loss 3.9116716384887695\n",
            "epoch 6, loss 3.668959617614746\n",
            "epoch 7, loss 3.445798397064209\n",
            "epoch 8, loss 3.2396745681762695\n",
            "epoch 9, loss 3.048510789871216\n",
            "epoch 10, loss 2.8705832958221436\n",
            "epoch 11, loss 2.7044522762298584\n",
            "epoch 12, loss 2.5489115715026855\n",
            "epoch 13, loss 2.4029440879821777\n",
            "epoch 14, loss 2.2656898498535156\n",
            "epoch 15, loss 2.136418581008911\n",
            "epoch 16, loss 2.0145068168640137\n",
            "epoch 17, loss 1.8994206190109253\n",
            "epoch 18, loss 1.7906988859176636\n",
            "epoch 19, loss 1.6879419088363647\n",
            "epoch 20, loss 1.5908002853393555\n",
            "epoch 21, loss 1.4989668130874634\n",
            "epoch 22, loss 1.4121677875518799\n",
            "epoch 23, loss 1.3301578760147095\n",
            "epoch 24, loss 1.2527142763137817\n",
            "epoch 25, loss 1.179632544517517\n",
            "epoch 26, loss 1.1107228994369507\n",
            "epoch 27, loss 1.0458073616027832\n",
            "epoch 28, loss 0.9847172498703003\n",
            "epoch 29, loss 0.927290678024292\n",
            "epoch 30, loss 0.8733717799186707\n",
            "epoch 31, loss 0.8228095769882202\n",
            "epoch 32, loss 0.7754560708999634\n",
            "epoch 33, loss 0.731166660785675\n",
            "epoch 34, loss 0.6897990703582764\n",
            "epoch 35, loss 0.6512137055397034\n",
            "epoch 36, loss 0.6152732372283936\n",
            "epoch 37, loss 0.5818425416946411\n",
            "epoch 38, loss 0.5507892966270447\n",
            "epoch 39, loss 0.5219835638999939\n",
            "epoch 40, loss 0.4952983856201172\n",
            "epoch 41, loss 0.4706100523471832\n",
            "epoch 42, loss 0.4477984607219696\n",
            "epoch 43, loss 0.42674684524536133\n",
            "epoch 44, loss 0.4073425531387329\n",
            "epoch 45, loss 0.38947728276252747\n",
            "epoch 46, loss 0.3730466365814209\n",
            "epoch 47, loss 0.3579510748386383\n",
            "epoch 48, loss 0.3440954089164734\n",
            "epoch 49, loss 0.3313891291618347\n",
            "epoch 50, loss 0.31974655389785767\n",
            "epoch 51, loss 0.30908647179603577\n",
            "epoch 52, loss 0.2993324100971222\n",
            "epoch 53, loss 0.2904125154018402\n",
            "epoch 54, loss 0.28225943446159363\n",
            "epoch 55, loss 0.27480998635292053\n",
            "epoch 56, loss 0.26800546050071716\n",
            "epoch 57, loss 0.26179108023643494\n",
            "epoch 58, loss 0.2561160624027252\n",
            "epoch 59, loss 0.25093334913253784\n",
            "epoch 60, loss 0.2461993396282196\n",
            "epoch 61, loss 0.24187396466732025\n",
            "epoch 62, loss 0.23792017996311188\n",
            "epoch 63, loss 0.23430395126342773\n",
            "epoch 64, loss 0.2309941202402115\n",
            "epoch 65, loss 0.22796209156513214\n",
            "epoch 66, loss 0.22518178820610046\n",
            "epoch 67, loss 0.22262924909591675\n",
            "epoch 68, loss 0.22028274834156036\n",
            "epoch 69, loss 0.21812240779399872\n",
            "epoch 70, loss 0.21613024175167084\n",
            "epoch 71, loss 0.2142898142337799\n",
            "epoch 72, loss 0.21258629858493805\n",
            "epoch 73, loss 0.21100611984729767\n",
            "epoch 74, loss 0.20953720808029175\n",
            "epoch 75, loss 0.2081684172153473\n",
            "epoch 76, loss 0.20688974857330322\n",
            "epoch 77, loss 0.20569226145744324\n",
            "epoch 78, loss 0.2045677751302719\n",
            "epoch 79, loss 0.20350897312164307\n",
            "epoch 80, loss 0.20250922441482544\n",
            "epoch 81, loss 0.20156261324882507\n",
            "epoch 82, loss 0.2006637305021286\n",
            "epoch 83, loss 0.19980785250663757\n",
            "epoch 84, loss 0.1989905834197998\n",
            "epoch 85, loss 0.1982080638408661\n",
            "epoch 86, loss 0.19745679199695587\n",
            "epoch 87, loss 0.19673366844654083\n",
            "epoch 88, loss 0.19603587687015533\n",
            "epoch 89, loss 0.19536086916923523\n",
            "epoch 90, loss 0.19470638036727905\n",
            "epoch 91, loss 0.1940704882144928\n",
            "epoch 92, loss 0.19345128536224365\n",
            "epoch 93, loss 0.19284716248512268\n",
            "epoch 94, loss 0.19225673377513885\n",
            "epoch 95, loss 0.19167859852313995\n",
            "epoch 96, loss 0.1911117136478424\n",
            "epoch 97, loss 0.19055496156215668\n",
            "epoch 98, loss 0.19000743329524994\n",
            "epoch 99, loss 0.18946827948093414\n",
            "epoch 100, loss 0.18893682956695557\n",
            "epoch 101, loss 0.18841232359409332\n",
            "epoch 102, loss 0.18789422512054443\n",
            "epoch 103, loss 0.18738199770450592\n",
            "epoch 104, loss 0.18687517940998077\n",
            "epoch 105, loss 0.18637330830097198\n",
            "epoch 106, loss 0.1858760118484497\n",
            "epoch 107, loss 0.18538302183151245\n",
            "epoch 108, loss 0.18489395081996918\n",
            "epoch 109, loss 0.18440856039524078\n",
            "epoch 110, loss 0.18392659723758698\n",
            "epoch 111, loss 0.1834479123353958\n",
            "epoch 112, loss 0.18297220766544342\n",
            "epoch 113, loss 0.18249936401844025\n",
            "epoch 114, loss 0.18202921748161316\n",
            "epoch 115, loss 0.1815616339445114\n",
            "epoch 116, loss 0.18109649419784546\n",
            "epoch 117, loss 0.18063370883464813\n",
            "epoch 118, loss 0.1801731288433075\n",
            "epoch 119, loss 0.17971469461917877\n",
            "epoch 120, loss 0.179258331656456\n",
            "epoch 121, loss 0.1788039207458496\n",
            "epoch 122, loss 0.1783514767885208\n",
            "epoch 123, loss 0.17790082097053528\n",
            "epoch 124, loss 0.17745205760002136\n",
            "epoch 125, loss 0.17700500786304474\n",
            "epoch 126, loss 0.176559716463089\n",
            "epoch 127, loss 0.17611610889434814\n",
            "epoch 128, loss 0.17567411065101624\n",
            "epoch 129, loss 0.17523375153541565\n",
            "epoch 130, loss 0.1747950166463852\n",
            "epoch 131, loss 0.1743578165769577\n",
            "epoch 132, loss 0.1739221215248108\n",
            "epoch 133, loss 0.17348797619342804\n",
            "epoch 134, loss 0.17305530607700348\n",
            "epoch 135, loss 0.1726241558790207\n",
            "epoch 136, loss 0.1721944510936737\n",
            "epoch 137, loss 0.17176616191864014\n",
            "epoch 138, loss 0.17133931815624237\n",
            "epoch 139, loss 0.1709139347076416\n",
            "epoch 140, loss 0.17048990726470947\n",
            "epoch 141, loss 0.17006728053092957\n",
            "epoch 142, loss 0.16964606940746307\n",
            "epoch 143, loss 0.16922619938850403\n",
            "epoch 144, loss 0.168807715177536\n",
            "epoch 145, loss 0.16839060187339783\n",
            "epoch 146, loss 0.1679748147726059\n",
            "epoch 147, loss 0.1675603687763214\n",
            "epoch 148, loss 0.16714727878570557\n",
            "epoch 149, loss 0.1667354851961136\n",
            "epoch 150, loss 0.16632501780986786\n",
            "epoch 151, loss 0.1659158319234848\n",
            "epoch 152, loss 0.16550801694393158\n",
            "epoch 153, loss 0.16510145366191864\n",
            "epoch 154, loss 0.16469620168209076\n",
            "epoch 155, loss 0.16429224610328674\n",
            "epoch 156, loss 0.16388960182666779\n",
            "epoch 157, loss 0.16348817944526672\n",
            "epoch 158, loss 0.16308805346488953\n",
            "epoch 159, loss 0.1626891940832138\n",
            "epoch 160, loss 0.16229158639907837\n",
            "epoch 161, loss 0.1618952453136444\n",
            "epoch 162, loss 0.16150017082691193\n",
            "epoch 163, loss 0.16110633313655853\n",
            "epoch 164, loss 0.16071374714374542\n",
            "epoch 165, loss 0.1603223979473114\n",
            "epoch 166, loss 0.15993227064609528\n",
            "epoch 167, loss 0.15954336524009705\n",
            "epoch 168, loss 0.1591556966304779\n",
            "epoch 169, loss 0.15876926481723785\n",
            "epoch 170, loss 0.1583840399980545\n",
            "epoch 171, loss 0.15800003707408905\n",
            "epoch 172, loss 0.1576172411441803\n",
            "epoch 173, loss 0.15723565220832825\n",
            "epoch 174, loss 0.15685522556304932\n",
            "epoch 175, loss 0.15647602081298828\n",
            "epoch 176, loss 0.15609803795814514\n",
            "epoch 177, loss 0.15572121739387512\n",
            "epoch 178, loss 0.1553455889225006\n",
            "epoch 179, loss 0.1549711376428604\n",
            "epoch 180, loss 0.15459786355495453\n",
            "epoch 181, loss 0.15422576665878296\n",
            "epoch 182, loss 0.1538548320531845\n",
            "epoch 183, loss 0.15348507463932037\n",
            "epoch 184, loss 0.15311647951602936\n",
            "epoch 185, loss 0.15274904668331146\n",
            "epoch 186, loss 0.1523827463388443\n",
            "epoch 187, loss 0.15201763808727264\n",
            "epoch 188, loss 0.15165364742279053\n",
            "epoch 189, loss 0.15129078924655914\n",
            "epoch 190, loss 0.15092910826206207\n",
            "epoch 191, loss 0.15056854486465454\n",
            "epoch 192, loss 0.15020912885665894\n",
            "epoch 193, loss 0.14985083043575287\n",
            "epoch 194, loss 0.14949363470077515\n",
            "epoch 195, loss 0.14913760125637054\n",
            "epoch 196, loss 0.1487826704978943\n",
            "epoch 197, loss 0.14842887222766876\n",
            "epoch 198, loss 0.1480761617422104\n",
            "epoch 199, loss 0.14772458374500275\n"
          ]
        }
      ],
      "source": [
        "for epoch in range(epochs):\n",
        "    optimizer.zero_grad()\n",
        "    outputs = model(inputs)\n",
        "\n",
        "    loss = loss_func(outputs, targets)\n",
        "\n",
        "    train_loss_list.append(loss.item())\n",
        "\n",
        "    loss.backward()\n",
        "\n",
        "    optimizer.step()\n",
        "\n",
        "    print('epoch {}, loss {}'.format(epoch, loss.item()))\n",
        "\n"
      ]
    },
    {
      "cell_type": "markdown",
      "id": "4cdd80a0",
      "metadata": {
        "id": "4cdd80a0"
      },
      "source": [
        "## Visualize and Evaluate Model"
      ]
    },
    {
      "cell_type": "code",
      "execution_count": 12,
      "id": "0e78ae46",
      "metadata": {
        "colab": {
          "base_uri": "https://localhost:8080/",
          "height": 560
        },
        "id": "0e78ae46",
        "outputId": "211cfc93-8384-4994-d8f5-ca23241b9e04"
      },
      "outputs": [
        {
          "output_type": "execute_result",
          "data": {
            "text/plain": [
              "Text(0, 0.5, 'Loss')"
            ]
          },
          "metadata": {},
          "execution_count": 12
        },
        {
          "output_type": "display_data",
          "data": {
            "text/plain": [
              "<Figure size 1200x600 with 1 Axes>"
            ],
            "image/png": "[encoded data removed]"
          },
          "metadata": {}
        }
      ],
      "source": [
        "# Plot your training loss throughout the training\n",
        "# Include proper x and y labels for the plot\n",
        "\n",
        "import matplotlib.pyplot as plt\n",
        "\n",
        "plt.figure(figsize=(12, 6))\n",
        "# The issue was that the length of train_loss_list could be longer\n",
        "# than the number of epochs depending on whether the cell was run previously\n",
        "# range(epochs) creates a range object corresponding to the number of epochs trained\n",
        "plt.plot(range(epochs), train_loss_list[:epochs]) # Only plot the losses for the actual epochs run in this execution\n",
        "plt.xlabel('Epoch')\n",
        "plt.ylabel('Loss')\n",
        "# YOUR CODE HERE"
      ]
    },
    {
      "cell_type": "code",
      "execution_count": 14,
      "id": "7aaed186",
      "metadata": {
        "colab": {
          "base_uri": "https://localhost:8080/"
        },
        "id": "7aaed186",
        "outputId": "10095b06-e960-4d89-86d3-bcd99aca59a2"
      },
      "outputs": [
        {
          "output_type": "stream",
          "name": "stdout",
          "text": [
            "0.8533333333333334\n"
          ]
        }
      ],
      "source": [
        "import numpy as np\n",
        "\n",
        "with torch.no_grad():\n",
        "\n",
        "    # Compare your model predictions with targets (y_train) to compute the training accuracy\n",
        "\n",
        "    predicted = model(inputs).cpu().numpy()\n",
        "\n",
        "    # YOUR CODE HERE\n",
        "\n",
        "# Training accuracy = (# of correct predictions) / (total # of training samples)\n",
        "correct = 0\n",
        "for i in range(150):\n",
        "    # Check if the prediction is NaN and replace it with a default value if needed\n",
        "    if np.isnan(predicted[i][0]):\n",
        "        # skip this prediction or replace it with a default value (e.g., 0)\n",
        "        print(f\"Warning: NaN prediction encountered at index {i}, skipping...\")\n",
        "        continue  # Skip to the next iteration\n",
        "\n",
        "    predicted_output = round(predicted[i][0])\n",
        "    if predicted_output == iris['target'][i]:\n",
        "        correct += 1\n",
        "print(correct/150)"
      ]
    }
  ],
  "metadata": {
    "kernelspec": {
      "display_name": "Python 3",
      "name": "python3"
    },
    "language_info": {
      "codemirror_mode": {
        "name": "ipython",
        "version": 3
      },
      "file_extension": ".py",
      "mimetype": "text/x-python",
      "name": "python",
      "nbconvert_exporter": "python",
      "pygments_lexer": "ipython3",
      "version": "3.9.6"
    },
    "colab": {
      "provenance": [],
      "gpuType": "T4"
    },
    "accelerator": "GPU"
  },
  "nbformat": 4,
  "nbformat_minor": 5
}