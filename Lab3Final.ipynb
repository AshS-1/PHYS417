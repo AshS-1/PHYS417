{
 "cells": [
  {
   "cell_type": "markdown",
   "id": "581f5f99",
   "metadata": {},
   "source": [
    "# Lab 3 Report: \n",
    "## MNIST Classification with FCN"
   ]
  },
  {
   "cell_type": "markdown",
   "id": "b2c65aec",
   "metadata": {},
   "source": [
    "### Name:"
   ]
  },
  {
   "cell_type": "code",
   "execution_count": 3,
   "id": "835b6358",
   "metadata": {},
   "outputs": [
    {
     "name": "stdout",
     "output_type": "stream",
     "text": [
      "Defaulting to user installation because normal site-packages is not writeable\n",
      "Requirement already satisfied: torchvision in /Users/ashwikasharma/Library/Python/3.9/lib/python/site-packages (0.20.1)\n",
      "Requirement already satisfied: numpy in /Users/ashwikasharma/Library/Python/3.9/lib/python/site-packages (from torchvision) (2.0.2)\n",
      "Requirement already satisfied: torch==2.5.1 in /Users/ashwikasharma/Library/Python/3.9/lib/python/site-packages (from torchvision) (2.5.1)\n",
      "Requirement already satisfied: pillow!=8.3.*,>=5.3.0 in /Users/ashwikasharma/Library/Python/3.9/lib/python/site-packages (from torchvision) (11.0.0)\n",
      "Requirement already satisfied: networkx in /Users/ashwikasharma/Library/Python/3.9/lib/python/site-packages (from torch==2.5.1->torchvision) (3.2.1)\n",
      "Requirement already satisfied: fsspec in /Users/ashwikasharma/Library/Python/3.9/lib/python/site-packages (from torch==2.5.1->torchvision) (2024.10.0)\n",
      "Requirement already satisfied: sympy==1.13.1 in /Users/ashwikasharma/Library/Python/3.9/lib/python/site-packages (from torch==2.5.1->torchvision) (1.13.1)\n",
      "Requirement already satisfied: typing-extensions>=4.8.0 in /Users/ashwikasharma/Library/Python/3.9/lib/python/site-packages (from torch==2.5.1->torchvision) (4.12.2)\n",
      "Requirement already satisfied: jinja2 in /Users/ashwikasharma/Library/Python/3.9/lib/python/site-packages (from torch==2.5.1->torchvision) (3.1.4)\n",
      "Requirement already satisfied: filelock in /Users/ashwikasharma/Library/Python/3.9/lib/python/site-packages (from torch==2.5.1->torchvision) (3.16.1)\n",
      "Requirement already satisfied: mpmath<1.4,>=1.1.0 in /Users/ashwikasharma/Library/Python/3.9/lib/python/site-packages (from sympy==1.13.1->torch==2.5.1->torchvision) (1.3.0)\n",
      "Requirement already satisfied: MarkupSafe>=2.0 in /Users/ashwikasharma/Library/Python/3.9/lib/python/site-packages (from jinja2->torch==2.5.1->torchvision) (3.0.2)\n",
      "\u001b[33mWARNING: You are using pip version 21.2.4; however, version 24.3.1 is available.\n",
      "You should consider upgrading via the '/Applications/Xcode.app/Contents/Developer/usr/bin/python3 -m pip install --upgrade pip' command.\u001b[0m\n",
      "Note: you may need to restart the kernel to use updated packages.\n",
      "Defaulting to user installation because normal site-packages is not writeable\n",
      "Requirement already satisfied: numpy in /Users/ashwikasharma/Library/Python/3.9/lib/python/site-packages (2.0.2)\n",
      "\u001b[33mWARNING: You are using pip version 21.2.4; however, version 24.3.1 is available.\n",
      "You should consider upgrading via the '/Applications/Xcode.app/Contents/Developer/usr/bin/python3 -m pip install --upgrade pip' command.\u001b[0m\n",
      "Note: you may need to restart the kernel to use updated packages.\n"
     ]
    }
   ],
   "source": [
    "# Import necessary packages\n",
    "\n",
    "%matplotlib inline\n",
    "%pip install torchvision\n",
    "%pip install numpy\n",
    "\n",
    "import matplotlib.pyplot as plt\n",
    "\n",
    "import torch\n",
    "import torchvision\n",
    "import numpy as np"
   ]
  },
  {
   "cell_type": "code",
   "execution_count": 4,
   "id": "7b7288ef",
   "metadata": {},
   "outputs": [],
   "source": [
    "from IPython.display import Image # For displaying images in colab jupyter cell"
   ]
  },
  {
   "cell_type": "code",
   "execution_count": 6,
   "id": "01789f43",
   "metadata": {},
   "outputs": [
    {
     "ename": "FileNotFoundError",
     "evalue": "No such file or directory: 'lab3_exercise.PNG'",
     "output_type": "error",
     "traceback": [
      "\u001b[0;31m---------------------------------------------------------------------------\u001b[0m",
      "\u001b[0;31mTypeError\u001b[0m                                 Traceback (most recent call last)",
      "File \u001b[0;32m~/Library/Python/3.9/lib/python/site-packages/IPython/core/display.py:1045\u001b[0m, in \u001b[0;36mImage._data_and_metadata\u001b[0;34m(self, always_both)\u001b[0m\n\u001b[1;32m   1044\u001b[0m \u001b[39mtry\u001b[39;00m:\n\u001b[0;32m-> 1045\u001b[0m     b64_data \u001b[39m=\u001b[39m b2a_base64(\u001b[39mself\u001b[39;49m\u001b[39m.\u001b[39;49mdata, newline\u001b[39m=\u001b[39;49m\u001b[39mFalse\u001b[39;49;00m)\u001b[39m.\u001b[39mdecode(\u001b[39m\"\u001b[39m\u001b[39mascii\u001b[39m\u001b[39m\"\u001b[39m)\n\u001b[1;32m   1046\u001b[0m \u001b[39mexcept\u001b[39;00m \u001b[39mTypeError\u001b[39;00m \u001b[39mas\u001b[39;00m e:\n",
      "\u001b[0;31mTypeError\u001b[0m: a bytes-like object is required, not 'str'",
      "\nThe above exception was the direct cause of the following exception:\n",
      "\u001b[0;31mFileNotFoundError\u001b[0m                         Traceback (most recent call last)",
      "File \u001b[0;32m~/Library/Python/3.9/lib/python/site-packages/IPython/core/formatters.py:974\u001b[0m, in \u001b[0;36mMimeBundleFormatter.__call__\u001b[0;34m(self, obj, include, exclude)\u001b[0m\n\u001b[1;32m    971\u001b[0m     method \u001b[39m=\u001b[39m get_real_method(obj, \u001b[39mself\u001b[39m\u001b[39m.\u001b[39mprint_method)\n\u001b[1;32m    973\u001b[0m     \u001b[39mif\u001b[39;00m method \u001b[39mis\u001b[39;00m \u001b[39mnot\u001b[39;00m \u001b[39mNone\u001b[39;00m:\n\u001b[0;32m--> 974\u001b[0m         \u001b[39mreturn\u001b[39;00m method(include\u001b[39m=\u001b[39;49minclude, exclude\u001b[39m=\u001b[39;49mexclude)\n\u001b[1;32m    975\u001b[0m     \u001b[39mreturn\u001b[39;00m \u001b[39mNone\u001b[39;00m\n\u001b[1;32m    976\u001b[0m \u001b[39melse\u001b[39;00m:\n",
      "File \u001b[0;32m~/Library/Python/3.9/lib/python/site-packages/IPython/core/display.py:1035\u001b[0m, in \u001b[0;36mImage._repr_mimebundle_\u001b[0;34m(self, include, exclude)\u001b[0m\n\u001b[1;32m   1033\u001b[0m \u001b[39mif\u001b[39;00m \u001b[39mself\u001b[39m\u001b[39m.\u001b[39membed:\n\u001b[1;32m   1034\u001b[0m     mimetype \u001b[39m=\u001b[39m \u001b[39mself\u001b[39m\u001b[39m.\u001b[39m_mimetype\n\u001b[0;32m-> 1035\u001b[0m     data, metadata \u001b[39m=\u001b[39m \u001b[39mself\u001b[39;49m\u001b[39m.\u001b[39;49m_data_and_metadata(always_both\u001b[39m=\u001b[39;49m\u001b[39mTrue\u001b[39;49;00m)\n\u001b[1;32m   1036\u001b[0m     \u001b[39mif\u001b[39;00m metadata:\n\u001b[1;32m   1037\u001b[0m         metadata \u001b[39m=\u001b[39m {mimetype: metadata}\n",
      "File \u001b[0;32m~/Library/Python/3.9/lib/python/site-packages/IPython/core/display.py:1047\u001b[0m, in \u001b[0;36mImage._data_and_metadata\u001b[0;34m(self, always_both)\u001b[0m\n\u001b[1;32m   1045\u001b[0m     b64_data \u001b[39m=\u001b[39m b2a_base64(\u001b[39mself\u001b[39m\u001b[39m.\u001b[39mdata, newline\u001b[39m=\u001b[39m\u001b[39mFalse\u001b[39;00m)\u001b[39m.\u001b[39mdecode(\u001b[39m\"\u001b[39m\u001b[39mascii\u001b[39m\u001b[39m\"\u001b[39m)\n\u001b[1;32m   1046\u001b[0m \u001b[39mexcept\u001b[39;00m \u001b[39mTypeError\u001b[39;00m \u001b[39mas\u001b[39;00m e:\n\u001b[0;32m-> 1047\u001b[0m     \u001b[39mraise\u001b[39;00m \u001b[39mFileNotFoundError\u001b[39;00m(\n\u001b[1;32m   1048\u001b[0m         \u001b[39m\"\u001b[39m\u001b[39mNo such file or directory: \u001b[39m\u001b[39m'\u001b[39m\u001b[39m%s\u001b[39;00m\u001b[39m'\u001b[39m\u001b[39m\"\u001b[39m \u001b[39m%\u001b[39m (\u001b[39mself\u001b[39m\u001b[39m.\u001b[39mdata)) \u001b[39mfrom\u001b[39;00m \u001b[39me\u001b[39;00m\n\u001b[1;32m   1049\u001b[0m md \u001b[39m=\u001b[39m {}\n\u001b[1;32m   1050\u001b[0m \u001b[39mif\u001b[39;00m \u001b[39mself\u001b[39m\u001b[39m.\u001b[39mmetadata:\n",
      "\u001b[0;31mFileNotFoundError\u001b[0m: No such file or directory: 'lab3_exercise.PNG'"
     ]
    },
    {
     "ename": "FileNotFoundError",
     "evalue": "No such file or directory: 'lab3_exercise.PNG'",
     "output_type": "error",
     "traceback": [
      "\u001b[0;31m---------------------------------------------------------------------------\u001b[0m",
      "\u001b[0;31mTypeError\u001b[0m                                 Traceback (most recent call last)",
      "File \u001b[0;32m~/Library/Python/3.9/lib/python/site-packages/IPython/core/display.py:1045\u001b[0m, in \u001b[0;36mImage._data_and_metadata\u001b[0;34m(self, always_both)\u001b[0m\n\u001b[1;32m   1044\u001b[0m \u001b[39mtry\u001b[39;00m:\n\u001b[0;32m-> 1045\u001b[0m     b64_data \u001b[39m=\u001b[39m b2a_base64(\u001b[39mself\u001b[39;49m\u001b[39m.\u001b[39;49mdata, newline\u001b[39m=\u001b[39;49m\u001b[39mFalse\u001b[39;49;00m)\u001b[39m.\u001b[39mdecode(\u001b[39m\"\u001b[39m\u001b[39mascii\u001b[39m\u001b[39m\"\u001b[39m)\n\u001b[1;32m   1046\u001b[0m \u001b[39mexcept\u001b[39;00m \u001b[39mTypeError\u001b[39;00m \u001b[39mas\u001b[39;00m e:\n",
      "\u001b[0;31mTypeError\u001b[0m: a bytes-like object is required, not 'str'",
      "\nThe above exception was the direct cause of the following exception:\n",
      "\u001b[0;31mFileNotFoundError\u001b[0m                         Traceback (most recent call last)",
      "File \u001b[0;32m~/Library/Python/3.9/lib/python/site-packages/IPython/core/formatters.py:344\u001b[0m, in \u001b[0;36mBaseFormatter.__call__\u001b[0;34m(self, obj)\u001b[0m\n\u001b[1;32m    342\u001b[0m     method \u001b[39m=\u001b[39m get_real_method(obj, \u001b[39mself\u001b[39m\u001b[39m.\u001b[39mprint_method)\n\u001b[1;32m    343\u001b[0m     \u001b[39mif\u001b[39;00m method \u001b[39mis\u001b[39;00m \u001b[39mnot\u001b[39;00m \u001b[39mNone\u001b[39;00m:\n\u001b[0;32m--> 344\u001b[0m         \u001b[39mreturn\u001b[39;00m method()\n\u001b[1;32m    345\u001b[0m     \u001b[39mreturn\u001b[39;00m \u001b[39mNone\u001b[39;00m\n\u001b[1;32m    346\u001b[0m \u001b[39melse\u001b[39;00m:\n",
      "File \u001b[0;32m~/Library/Python/3.9/lib/python/site-packages/IPython/core/display.py:1067\u001b[0m, in \u001b[0;36mImage._repr_png_\u001b[0;34m(self)\u001b[0m\n\u001b[1;32m   1065\u001b[0m \u001b[39mdef\u001b[39;00m \u001b[39m_repr_png_\u001b[39m(\u001b[39mself\u001b[39m):\n\u001b[1;32m   1066\u001b[0m     \u001b[39mif\u001b[39;00m \u001b[39mself\u001b[39m\u001b[39m.\u001b[39membed \u001b[39mand\u001b[39;00m \u001b[39mself\u001b[39m\u001b[39m.\u001b[39mformat \u001b[39m==\u001b[39m \u001b[39mself\u001b[39m\u001b[39m.\u001b[39m_FMT_PNG:\n\u001b[0;32m-> 1067\u001b[0m         \u001b[39mreturn\u001b[39;00m \u001b[39mself\u001b[39;49m\u001b[39m.\u001b[39;49m_data_and_metadata()\n",
      "File \u001b[0;32m~/Library/Python/3.9/lib/python/site-packages/IPython/core/display.py:1047\u001b[0m, in \u001b[0;36mImage._data_and_metadata\u001b[0;34m(self, always_both)\u001b[0m\n\u001b[1;32m   1045\u001b[0m     b64_data \u001b[39m=\u001b[39m b2a_base64(\u001b[39mself\u001b[39m\u001b[39m.\u001b[39mdata, newline\u001b[39m=\u001b[39m\u001b[39mFalse\u001b[39;00m)\u001b[39m.\u001b[39mdecode(\u001b[39m\"\u001b[39m\u001b[39mascii\u001b[39m\u001b[39m\"\u001b[39m)\n\u001b[1;32m   1046\u001b[0m \u001b[39mexcept\u001b[39;00m \u001b[39mTypeError\u001b[39;00m \u001b[39mas\u001b[39;00m e:\n\u001b[0;32m-> 1047\u001b[0m     \u001b[39mraise\u001b[39;00m \u001b[39mFileNotFoundError\u001b[39;00m(\n\u001b[1;32m   1048\u001b[0m         \u001b[39m\"\u001b[39m\u001b[39mNo such file or directory: \u001b[39m\u001b[39m'\u001b[39m\u001b[39m%s\u001b[39;00m\u001b[39m'\u001b[39m\u001b[39m\"\u001b[39m \u001b[39m%\u001b[39m (\u001b[39mself\u001b[39m\u001b[39m.\u001b[39mdata)) \u001b[39mfrom\u001b[39;00m \u001b[39me\u001b[39;00m\n\u001b[1;32m   1049\u001b[0m md \u001b[39m=\u001b[39m {}\n\u001b[1;32m   1050\u001b[0m \u001b[39mif\u001b[39;00m \u001b[39mself\u001b[39m\u001b[39m.\u001b[39mmetadata:\n",
      "\u001b[0;31mFileNotFoundError\u001b[0m: No such file or directory: 'lab3_exercise.PNG'"
     ]
    },
    {
     "data": {
      "text/plain": [
       "<IPython.core.display.Image object>"
      ]
     },
     "execution_count": 6,
     "metadata": {},
     "output_type": "execute_result"
    }
   ],
   "source": [
    "Image('lab3_exercise.PNG', width = 1000)"
   ]
  },
  {
   "cell_type": "markdown",
   "id": "9946eb62",
   "metadata": {},
   "source": [
    "### Prepare Data"
   ]
  },
  {
   "cell_type": "code",
   "execution_count": 39,
   "id": "bc88120e",
   "metadata": {},
   "outputs": [
    {
     "name": "stdout",
     "output_type": "stream",
     "text": [
      "(1000, 28, 28) (1000,)\n",
      "(100, 28, 28) (100,)\n"
     ]
    }
   ],
   "source": [
    "# Load MNIST Dataset in Numpy\n",
    "\n",
    "# 1000 training samples where each sample feature is a greyscale image with shape (28, 28)\n",
    "# 1000 training targets where each target is an integer indicating the true digit\n",
    "mnist_train_features = np.load('mnist_train_features.npy') \n",
    "mnist_train_targets = np.load('mnist_train_targets.npy')\n",
    "\n",
    "# 100 testing samples + targets\n",
    "mnist_test_features = np.load('mnist_test_features.npy')\n",
    "mnist_test_targets = np.load('mnist_test_targets.npy')\n",
    "\n",
    "# Print the dimensions of training sample features/targets\n",
    "print(mnist_train_features.shape, mnist_train_targets.shape)\n",
    "# Print the dimensions of testing sample features/targets\n",
    "print(mnist_test_features.shape, mnist_test_targets.shape)"
   ]
  },
  {
   "cell_type": "code",
   "execution_count": 40,
   "id": "b08ed1a5",
   "metadata": {},
   "outputs": [
    {
     "data": {
      "text/plain": [
       "<matplotlib.image.AxesImage at 0x108869430>"
      ]
     },
     "execution_count": 40,
     "metadata": {},
     "output_type": "execute_result"
    },
    {
     "data": {
      "image/png": "[encoded data removed]",
      "text/plain": [
       "<Figure size 1000x1000 with 3 Axes>"
      ]
     },
     "metadata": {},
     "output_type": "display_data"
    }
   ],
   "source": [
    "# Let's visualize some training samples\n",
    "\n",
    "plt.figure(figsize = (10, 10))\n",
    "\n",
    "plt.subplot(1,3,1)\n",
    "plt.imshow(mnist_train_features[0], cmap = 'Greys')\n",
    "\n",
    "plt.subplot(1,3,2)\n",
    "plt.imshow(mnist_train_features[1], cmap = 'Greys')\n",
    "\n",
    "plt.subplot(1,3,3)\n",
    "plt.imshow(mnist_train_features[2], cmap = 'Greys')"
   ]
  },
  {
   "cell_type": "code",
   "execution_count": 43,
   "id": "bbf4fc7e",
   "metadata": {},
   "outputs": [
    {
     "name": "stdout",
     "output_type": "stream",
     "text": [
      "(1000, 784) (100, 784)\n"
     ]
    }
   ],
   "source": [
    "# Reshape features via flattening the images\n",
    "# This refers to reshape each sample from a 2d array to a 1d array.\n",
    "# hint: np.reshape() function could be useful here\n",
    "\n",
    "# Reshaping original array into (1000, 784), flatten samples into 1D arrays of 28*28=784 elements, which is for MNIST images\n",
    "mnist_train_features = np.reshape(mnist_train_features, (1000, 784)) \n",
    "mnist_test_features = np.reshape(mnist_test_features, (100, 784)) \n",
    "\n",
    "\n",
    "print(mnist_train_features.shape, mnist_test_features.shape)"
   ]
  },
  {
   "cell_type": "code",
   "execution_count": 47,
   "id": "9a7e15a0",
   "metadata": {},
   "outputs": [],
   "source": [
    "\n",
    "# Initialize the scaler\n",
    "from sklearn.preprocessing import StandardScaler\n",
    "# Creates instance of StandardScalar class\n",
    "scaler = StandardScaler()\n",
    "\n",
    "# Fit the scaler on the training and test data (calculates mean and standard deviation of each feature, mean=0, s.d=1)\n",
    "mnist_train_features = scaler.fit_transform(mnist_train_features)\n",
    "mnist_test_features = scaler.fit_transform(mnist_test_features)\n",
    "\n",
    "\n"
   ]
  },
  {
   "cell_type": "code",
   "execution_count": 49,
   "id": "179aeb43",
   "metadata": {},
   "outputs": [
    {
     "name": "stdout",
     "output_type": "stream",
     "text": [
      "Training set shape: (800, 784) (800,)\n",
      "Validation set shape: (100, 784) (100,)\n"
     ]
    }
   ],
   "source": [
    "from sklearn.model_selection import train_test_split\n",
    "\n",
    "# Creates validation set by taking the first 100 elements of the training features and targets sets\n",
    "# validation setuseful for assessing model performance during training\n",
    "mnist_validation_features = mnist_train_features[:100]\n",
    "mnist_validation_targets = mnist_train_targets[:100]\n",
    "\n",
    "# creates training set by taking last 100 elements of training features and target --> unseen validation set\n",
    "# used for \"unbiased\" understanding of the model performacne\n",
    "mnist_train_features = mnist_train_features[100:]\n",
    "mnist_train_targets = mnist_train_targets[100:]\n",
    "\n",
    "print(\"Training set shape:\", mnist_train_features.shape, mnist_train_targets.shape)\n",
    "print(\"Validation set shape:\", mnist_validation_features.shape, mnist_validation_targets.shape)\n"
   ]
  },
  {
   "cell_type": "markdown",
   "id": "86c39b73",
   "metadata": {},
   "source": [
    "### Define Model"
   ]
  },
  {
   "cell_type": "code",
   "execution_count": 51,
   "id": "c8355384",
   "metadata": {},
   "outputs": [],
   "source": [
    "class mnistClassification(torch.nn.Module):\n",
    "    \n",
    "    def __init__(self, input_dim, output_dim): # Feel free to add hidden_dim as parameters here\n",
    "        \n",
    "        super(mnistClassification, self).__init__()\n",
    "        \n",
    "        # Linear transformation of the input\n",
    "        # Output of one layer becomes input of the next\n",
    "\n",
    "        # transforms input_dim (784) features into 50 features\n",
    "        self.layer1 = torch.nn.Linear(input_dim, 50)\n",
    "\n",
    "        # takes 50 feature output from last line and transforms into another layer with 50 features\n",
    "        self.layer2 = torch.nn.Linear(50, 50)\n",
    "\n",
    "        # takes 50 feature output from last line and transforms into output_dim dimensions (usually 10 for MNIST)\n",
    "        self.layer3 = torch.nn.Linear(50, output_dim)\n",
    "        \n",
    "    # describes how data flows thru neural network\n",
    "    def forward(self, x):\n",
    "        \n",
    "        # applies rectified layer function (RELU) to the layer (rectified linear unit)\n",
    "        # replaced negative values with 0??\n",
    "        # ReLU used to implement non-linearity --> complex functions for the neural network\n",
    "        x = torch.nn.functional.relu(self.layer1(x))\n",
    "        x = torch.nn.functional.relu(self.layer2(x))\n",
    "\n",
    "        # converts scores to raw probabilities that sum to 1 across the specified dimension\n",
    "        # allows for output to be interpreted as probabilities\n",
    "        x = torch.nn.functional.softmax(self.layer3(x), dim=1)\n",
    "        \n",
    "        return x"
   ]
  },
  {
   "cell_type": "markdown",
   "id": "e0473cde",
   "metadata": {},
   "source": [
    "### Define Hyperparameters"
   ]
  },
  {
   "cell_type": "code",
   "execution_count": 83,
   "id": "1d668a01",
   "metadata": {},
   "outputs": [
    {
     "data": {
      "text/plain": [
       "mnistClassification(\n",
       "  (layer1): Linear(in_features=784, out_features=50, bias=True)\n",
       "  (layer2): Linear(in_features=50, out_features=50, bias=True)\n",
       "  (layer3): Linear(in_features=50, out_features=10, bias=True)\n",
       ")"
      ]
     },
     "execution_count": 83,
     "metadata": {},
     "output_type": "execute_result"
    }
   ],
   "source": [
    "# Initialize our neural network model with input and output dimensions\n",
    "model = mnistClassification(mnist_train_features.shape[1], 10)\n",
    "\n",
    "# Define the learning rate and epoch \n",
    "learning_rate = 0.1\n",
    "epochs = 1000\n",
    "\n",
    "# 32 batches processed at a time\n",
    "batchsize = 32\n",
    "\n",
    "# Define loss function --> how performance will be measured\n",
    "#Cross-Entropy Loss commonly used for multi-class classification problems, MNIST digit recognition (10 classes)\n",
    "loss_func = torch.nn.CrossEntropyLoss()\n",
    "\n",
    "# Adam (Adaptive Moment Estimation), adaptive learning rate optimization algorithm\n",
    "# computes individual learning rates for different parameters --> helps update model parameters\n",
    "optimizer = torch.optim.Adam(model.parameters(), lr=0.001)\n",
    "\n",
    "# Moves to GPU, significantly speeds up training\n",
    "if torch.cuda.is_available():\n",
    "    model.cuda()\n",
    "\n",
    "model"
   ]
  },
  {
   "cell_type": "markdown",
   "id": "2438f848",
   "metadata": {},
   "source": [
    "### Identify Tracked Values"
   ]
  },
  {
   "cell_type": "code",
   "execution_count": 84,
   "id": "638259ed",
   "metadata": {},
   "outputs": [],
   "source": [
    "# Placeholders for training loss and validation accuracy during training\n",
    "# Training loss should be tracked for each iteration (1 iteration -> single forward pass to the network)\n",
    "# Validation accuracy should be evaluated every 'Epoch' (1 epoch -> full training dataset)\n",
    "# If using batch gradient, 1 iteration = 1 epoch\n",
    "\n",
    "# creates numpy array to store training loss for each epoch\n",
    "# np.zeroes creates array full of zeroes and epochs number of elements in array\n",
    "# how well on training data\n",
    "train_loss_list = np.zeros((epochs, ))\n",
    "\n",
    "# track validation accuracy (how well perform on seperate dataset)\n",
    "validation_accuracy_list = np.zeros((epochs,))"
   ]
  },
  {
   "cell_type": "code",
   "execution_count": 85,
   "id": "e58b7606",
   "metadata": {},
   "outputs": [],
   "source": [
    "import torch\n",
    "\n",
    "# Ensure you're only converting if it's not already a Tensor\n",
    "# converts input x into a Pytorch tensor\n",
    "def to_tensor(x, dtype=torch.float32):\n",
    "    if isinstance(x, torch.Tensor):\n",
    "        return x.to(dtype)\n",
    "    return torch.from_numpy(x).to(dtype)\n",
    "\n",
    "# convert each component of MNIST dataset into PyTorch tensors\n",
    "# done to prepare for ussage in models in PyTorch qhich require tensors not numpy arrays\n",
    "mnist_train_features = to_tensor(mnist_train_features, dtype=torch.float32)\n",
    "mnist_train_targets = to_tensor(mnist_train_targets, dtype=torch.long)\n",
    "mnist_validation_features = to_tensor(mnist_validation_features, dtype=torch.float32)\n",
    "mnist_validation_targets = to_tensor(mnist_validation_targets, dtype=torch.long)\n",
    "mnist_test_features = to_tensor(mnist_test_features, dtype=torch.float32)\n",
    "mnist_test_targets = to_tensor(mnist_test_targets, dtype=torch.long)\n"
   ]
  },
  {
   "cell_type": "markdown",
   "id": "1844d646",
   "metadata": {},
   "source": [
    "### Train Model"
   ]
  },
  {
   "cell_type": "code",
   "execution_count": 86,
   "id": "02a5f590",
   "metadata": {},
   "outputs": [
    {
     "name": "stderr",
     "output_type": "stream",
     "text": [
      "851210.94s - pydevd: Sending message related to process being replaced timed-out after 5 seconds\n"
     ]
    },
    {
     "name": "stdout",
     "output_type": "stream",
     "text": [
      "Defaulting to user installation because normal site-packages is not writeable\n",
      "Requirement already satisfied: tqdm in /Users/ashwikasharma/Library/Python/3.9/lib/python/site-packages (4.67.0)\n",
      "\u001b[33mWARNING: You are using pip version 21.2.4; however, version 24.3.1 is available.\n",
      "You should consider upgrading via the '/Applications/Xcode.app/Contents/Developer/usr/bin/python3 -m pip install --upgrade pip' command.\u001b[0m\n",
      "Note: you may need to restart the kernel to use updated packages.\n"
     ]
    },
    {
     "name": "stderr",
     "output_type": "stream",
     "text": [
      "100%|██████████| 1000/1000 [00:02<00:00, 486.87it/s]\n"
     ]
    }
   ],
   "source": [
    "%pip install tqdm\n",
    "import tqdm\n",
    "\n",
    "for epoch in tqdm.trange(epochs):\n",
    "    \n",
    "    # passes training features through model to get predictions\n",
    "    mnist_pred_features = model(mnist_train_features)\n",
    "\n",
    "    # calculates loss by comparing prediction to training/actual)\n",
    "    loss = loss_func(mnist_pred_features, mnist_train_targets)\n",
    "\n",
    "    # store loss values in train_loss_list\n",
    "    train_loss_list[epoch]= loss.item()\n",
    "\n",
    "    # reset gradients of optimizer to 0, because pytorch accumulates it and it needs to be reset\n",
    "    optimizer.zero_grad()\n",
    "\n",
    "    # compute gradiatnt of loss with respect to model parameters\n",
    "    # indicates how the loss function changes with respect to each parameter.\n",
    "    # used to update model parameters during training to minimize loss\n",
    "    loss.backward()\n",
    "\n",
    "    # update model paramaters based on computed gradients\n",
    "    optimizer.step()\n",
    "\n",
    "    with torch.no_grad():\n",
    "    # Get model predictions\n",
    "        mnist_pred_features = model(mnist_validation_features)\n",
    "    \n",
    "    # converts models output probabilities into class labels (so 0-9 for the MNIST)\n",
    "        predicted_labels = torch.argmax(mnist_pred_features, dim=1)\n",
    "    \n",
    "    # Compare predicted labels with true labels (mnist_validation_targets), creates tensor of 0s and 1s\n",
    "        correct = (predicted_labels == mnist_validation_targets).float()\n",
    "    \n",
    "    # Calculate validation accuracy for each epoch by getting means of correct predicitons\n",
    "        validation_accuracy_list[epoch] = correct.mean()"
   ]
  },
  {
   "cell_type": "markdown",
   "id": "32e14041",
   "metadata": {},
   "source": [
    "### Visualize and Evaluate Model"
   ]
  },
  {
   "cell_type": "code",
   "execution_count": 80,
   "id": "afaeee6a",
   "metadata": {},
   "outputs": [
    {
     "name": "stderr",
     "output_type": "stream",
     "text": [
      "851176.99s - pydevd: Sending message related to process being replaced timed-out after 5 seconds\n"
     ]
    },
    {
     "name": "stdout",
     "output_type": "stream",
     "text": [
      "Defaulting to user installation because normal site-packages is not writeable\n",
      "Requirement already satisfied: seaborn in /Users/ashwikasharma/Library/Python/3.9/lib/python/site-packages (0.13.2)\n",
      "Requirement already satisfied: matplotlib!=3.6.1,>=3.4 in /Users/ashwikasharma/Library/Python/3.9/lib/python/site-packages (from seaborn) (3.9.2)\n",
      "Requirement already satisfied: pandas>=1.2 in /Users/ashwikasharma/Library/Python/3.9/lib/python/site-packages (from seaborn) (2.2.3)\n",
      "Requirement already satisfied: numpy!=1.24.0,>=1.20 in /Users/ashwikasharma/Library/Python/3.9/lib/python/site-packages (from seaborn) (2.0.2)\n",
      "Requirement already satisfied: pillow>=8 in /Users/ashwikasharma/Library/Python/3.9/lib/python/site-packages (from matplotlib!=3.6.1,>=3.4->seaborn) (11.0.0)\n",
      "Requirement already satisfied: importlib-resources>=3.2.0 in /Users/ashwikasharma/Library/Python/3.9/lib/python/site-packages (from matplotlib!=3.6.1,>=3.4->seaborn) (6.4.5)\n",
      "Requirement already satisfied: kiwisolver>=1.3.1 in /Users/ashwikasharma/Library/Python/3.9/lib/python/site-packages (from matplotlib!=3.6.1,>=3.4->seaborn) (1.4.7)\n",
      "Requirement already satisfied: fonttools>=4.22.0 in /Users/ashwikasharma/Library/Python/3.9/lib/python/site-packages (from matplotlib!=3.6.1,>=3.4->seaborn) (4.54.1)\n",
      "Requirement already satisfied: packaging>=20.0 in /Users/ashwikasharma/Library/Python/3.9/lib/python/site-packages (from matplotlib!=3.6.1,>=3.4->seaborn) (24.1)\n",
      "Requirement already satisfied: pyparsing>=2.3.1 in /Users/ashwikasharma/Library/Python/3.9/lib/python/site-packages (from matplotlib!=3.6.1,>=3.4->seaborn) (3.2.0)\n",
      "Requirement already satisfied: contourpy>=1.0.1 in /Users/ashwikasharma/Library/Python/3.9/lib/python/site-packages (from matplotlib!=3.6.1,>=3.4->seaborn) (1.3.0)\n",
      "Requirement already satisfied: python-dateutil>=2.7 in /Users/ashwikasharma/Library/Python/3.9/lib/python/site-packages (from matplotlib!=3.6.1,>=3.4->seaborn) (2.9.0.post0)\n",
      "Requirement already satisfied: cycler>=0.10 in /Users/ashwikasharma/Library/Python/3.9/lib/python/site-packages (from matplotlib!=3.6.1,>=3.4->seaborn) (0.12.1)\n",
      "Requirement already satisfied: zipp>=3.1.0 in /Users/ashwikasharma/Library/Python/3.9/lib/python/site-packages (from importlib-resources>=3.2.0->matplotlib!=3.6.1,>=3.4->seaborn) (3.20.2)\n",
      "Requirement already satisfied: tzdata>=2022.7 in /Users/ashwikasharma/Library/Python/3.9/lib/python/site-packages (from pandas>=1.2->seaborn) (2024.2)\n",
      "Requirement already satisfied: pytz>=2020.1 in /Users/ashwikasharma/Library/Python/3.9/lib/python/site-packages (from pandas>=1.2->seaborn) (2024.2)\n",
      "Requirement already satisfied: six>=1.5 in /Applications/Xcode.app/Contents/Developer/Library/Frameworks/Python3.framework/Versions/3.9/lib/python3.9/site-packages (from python-dateutil>=2.7->matplotlib!=3.6.1,>=3.4->seaborn) (1.15.0)\n",
      "\u001b[33mWARNING: You are using pip version 21.2.4; however, version 24.3.1 is available.\n",
      "You should consider upgrading via the '/Applications/Xcode.app/Contents/Developer/usr/bin/python3 -m pip install --upgrade pip' command.\u001b[0m\n",
      "Note: you may need to restart the kernel to use updated packages.\n"
     ]
    }
   ],
   "source": [
    "# Import seaborn for prettier plots\n",
    "%pip install seaborn\n",
    "import seaborn as sns"
   ]
  },
  {
   "cell_type": "code",
   "execution_count": 87,
   "id": "272fffea",
   "metadata": {},
   "outputs": [
    {
     "data": {
      "image/png": "[encoded data removed]",
      "text/plain": [
       "<Figure size 1200x600 with 2 Axes>"
      ]
     },
     "metadata": {},
     "output_type": "display_data"
    }
   ],
   "source": [
    "# Visualize training loss\n",
    "\n",
    "plt.figure(figsize = (12, 6))\n",
    "\n",
    "# Visualize training loss with respect to iterations (1 iteration -> single batch)\n",
    "plt.subplot(2, 1, 1)\n",
    "plt.plot(train_loss_list, linewidth = 3)\n",
    "plt.ylabel(\"training loss\")\n",
    "plt.xlabel(\"epochs\")\n",
    "sns.despine()\n",
    "\n",
    "# Visualize validation accuracy with respect to epochs\n",
    "plt.subplot(2, 1, 2)\n",
    "plt.plot(validation_accuracy_list, linewidth = 3, color = 'gold')\n",
    "plt.ylabel(\"validation accuracy\")\n",
    "sns.despine()"
   ]
  },
  {
   "cell_type": "code",
   "execution_count": 101,
   "id": "1e6c8e8a",
   "metadata": {},
   "outputs": [
    {
     "name": "stdout",
     "output_type": "stream",
     "text": [
      "Testing accuracy: 0.91\n"
     ]
    }
   ],
   "source": [
    "# Compute the testing accuracy \n",
    "with torch.no_grad() :\n",
    "    # gets predictions\n",
    "    y_pred_test = model(mnist_test_features)\n",
    "    # finds index of highest probability in each sample, representing predicted class, compared with test_targets/true labels\n",
    "    correct = (torch.argmax(y_pred_test, dim=1) == mnist_test_targets).type(torch.FloatTensor)\n",
    "    # average of correct predictions\n",
    "    print(\"Testing accuracy: \" + str(correct.mean().numpy()))"
   ]
  },
  {
   "cell_type": "code",
   "execution_count": 2,
   "id": "b4f62683",
   "metadata": {
    "scrolled": false
   },
   "outputs": [
    {
     "ename": "NameError",
     "evalue": "name 'mnist_pred_features' is not defined",
     "output_type": "error",
     "traceback": [
      "\u001b[0;31m---------------------------------------------------------------------------\u001b[0m",
      "\u001b[0;31mNameError\u001b[0m                                 Traceback (most recent call last)",
      "Cell \u001b[0;32mIn[2], line 3\u001b[0m\n\u001b[1;32m      1\u001b[0m \u001b[39m# Plot 5 incorrectly classified testing samples and print the model predictions for each of them\u001b[39;00m\n\u001b[1;32m      2\u001b[0m \u001b[39m# You can use np.reshape() to convert flattened 1D array back to 2D array\u001b[39;00m\n\u001b[0;32m----> 3\u001b[0m \u001b[39mprint\u001b[39m(mnist_pred_features\u001b[39m.\u001b[39mshape)\n\u001b[1;32m      7\u001b[0m filter_mnist_pred_features \u001b[39m=\u001b[39m torch\u001b[39m.\u001b[39margmax(mnist_pred_features, dim\u001b[39m=\u001b[39m\u001b[39m1\u001b[39m)\n\u001b[1;32m      9\u001b[0m x \u001b[39m=\u001b[39m \u001b[39m1\u001b[39m\n",
      "\u001b[0;31mNameError\u001b[0m: name 'mnist_pred_features' is not defined"
     ]
    }
   ],
   "source": [
    "# Plot 5 incorrectly classified testing samples and print the model predictions for each of them\n",
    "# You can use np.reshape() to convert flattened 1D array back to 2D array\n",
    "print(mnist_pred_features.shape)\n",
    " \n",
    " \n",
    " \n",
    "filter_mnist_pred_features = torch.argmax(mnist_pred_features, dim=1)\n",
    " \n",
    "x = 1\n",
    "\n",
    "# iterates through first 100 samples to check if predicted labe doesnt match with true label\n",
    "for i in range(100):\n",
    "    if filter_mnist_pred_features[i] != mnist_test_targets[i]:\n",
    "        # prints real and predicted labels for miscalssificed images\n",
    "        print(filter_mnist_pred_features[i], mnist_test_targets[i])\n",
    "        # reshapes array into 28x28 and plots\n",
    "        image = np.reshape(mnist_test_features[i].numpy(), (28, 28))\n",
    "        plt.subplot(3, 4, x)\n",
    "        plt.imshow(image, cmap='Greys')\n",
    "        x += 1\n",
    "        if x == 6:\n",
    "            break\n",
    " \n",
    "plt.show()"
   ]
  }
 ],
 "metadata": {
  "kernelspec": {
   "display_name": "Python 3 (ipykernel)",
   "language": "python",
   "name": "python3"
  },
  "language_info": {
   "codemirror_mode": {
    "name": "ipython",
    "version": 3
   },
   "file_extension": ".py",
   "mimetype": "text/x-python",
   "name": "python",
   "nbconvert_exporter": "python",
   "pygments_lexer": "ipython3",
   "version": "3.9.6"
  }
 },
 "nbformat": 4,
 "nbformat_minor": 5
}
